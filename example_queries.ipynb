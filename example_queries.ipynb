{
 "cells": [
  {
   "cell_type": "code",
   "execution_count": 28,
   "metadata": {},
   "outputs": [],
   "source": [
    "import pandas as pd\n",
    "import requests\n",
    "\n",
    "url = 'http://www.ocearch.org/tracker/ajax/filter-sharks'\n",
    "headers = {'Accept' : 'application/json'}\n",
    "resp = requests.get(url, headers=headers)\n",
    "\n",
    "df = pd.DataFrame (resp.json())\n"
   ]
  },
  {
   "cell_type": "code",
   "execution_count": 29,
   "metadata": {},
   "outputs": [
    {
     "data": {
      "text/plain": [
       "275"
      ]
     },
     "execution_count": 29,
     "metadata": {},
     "output_type": "execute_result"
    }
   ],
   "source": [
    "pingFrames=[]\n",
    "for row in df.itertuples():\n",
    "    pingFrame = pd.DataFrame(row.pings)\n",
    "    pingFrame['id']=row.id\n",
    "    pingFrames.append(pingFrame)\n",
    "len (pingFrames)"
   ]
  },
  {
   "cell_type": "code",
   "execution_count": 30,
   "metadata": {},
   "outputs": [
    {
     "data": {
      "text/plain": [
       "(76082, 6)"
      ]
     },
     "execution_count": 30,
     "metadata": {},
     "output_type": "execute_result"
    }
   ],
   "source": [
    "pings = pd.concat(pingFrames)\n",
    "pings.shape"
   ]
  },
  {
   "cell_type": "code",
   "execution_count": 31,
   "metadata": {},
   "outputs": [],
   "source": [
    "pings ['datetime'] = pd.to_datetime (pings.tz_datetime)\n"
   ]
  },
  {
   "cell_type": "code",
   "execution_count": 32,
   "metadata": {},
   "outputs": [
    {
     "data": {
      "text/html": [
       "<div>\n",
       "<style scoped>\n",
       "    .dataframe tbody tr th:only-of-type {\n",
       "        vertical-align: middle;\n",
       "    }\n",
       "\n",
       "    .dataframe tbody tr th {\n",
       "        vertical-align: top;\n",
       "    }\n",
       "\n",
       "    .dataframe thead th {\n",
       "        text-align: right;\n",
       "    }\n",
       "</style>\n",
       "<table border=\"1\" class=\"dataframe\">\n",
       "  <thead>\n",
       "    <tr style=\"text-align: right;\">\n",
       "      <th></th>\n",
       "      <th>active</th>\n",
       "      <th>datetime</th>\n",
       "      <th>id</th>\n",
       "      <th>latitude</th>\n",
       "      <th>longitude</th>\n",
       "    </tr>\n",
       "  </thead>\n",
       "  <tbody>\n",
       "    <tr>\n",
       "      <th>0</th>\n",
       "      <td>1</td>\n",
       "      <td>2014-07-06 04:57:28</td>\n",
       "      <td>3</td>\n",
       "      <td>-34.60661</td>\n",
       "      <td>21.15244</td>\n",
       "    </tr>\n",
       "    <tr>\n",
       "      <th>1</th>\n",
       "      <td>1</td>\n",
       "      <td>2014-06-23 02:40:09</td>\n",
       "      <td>3</td>\n",
       "      <td>-34.78752</td>\n",
       "      <td>19.42479</td>\n",
       "    </tr>\n",
       "    <tr>\n",
       "      <th>2</th>\n",
       "      <td>1</td>\n",
       "      <td>2014-06-15 13:15:44</td>\n",
       "      <td>3</td>\n",
       "      <td>-34.42487</td>\n",
       "      <td>21.09754</td>\n",
       "    </tr>\n",
       "    <tr>\n",
       "      <th>3</th>\n",
       "      <td>1</td>\n",
       "      <td>2014-06-03 02:23:57</td>\n",
       "      <td>3</td>\n",
       "      <td>-34.70432271674724</td>\n",
       "      <td>20.21013441406251</td>\n",
       "    </tr>\n",
       "    <tr>\n",
       "      <th>4</th>\n",
       "      <td>1</td>\n",
       "      <td>2014-05-28 19:53:57</td>\n",
       "      <td>3</td>\n",
       "      <td>-34.65556</td>\n",
       "      <td>19.37459</td>\n",
       "    </tr>\n",
       "  </tbody>\n",
       "</table>\n",
       "</div>"
      ],
      "text/plain": [
       "  active            datetime  id            latitude          longitude\n",
       "0      1 2014-07-06 04:57:28   3           -34.60661           21.15244\n",
       "1      1 2014-06-23 02:40:09   3           -34.78752           19.42479\n",
       "2      1 2014-06-15 13:15:44   3           -34.42487           21.09754\n",
       "3      1 2014-06-03 02:23:57   3  -34.70432271674724  20.21013441406251\n",
       "4      1 2014-05-28 19:53:57   3           -34.65556           19.37459"
      ]
     },
     "execution_count": 32,
     "metadata": {},
     "output_type": "execute_result"
    }
   ],
   "source": [
    "pings.drop(columns=['tz_datetime'], inplace=True)\n",
    "pings.head()"
   ]
  },
  {
   "cell_type": "code",
   "execution_count": 33,
   "metadata": {},
   "outputs": [
    {
     "data": {
      "text/plain": [
       "(76082, 5)"
      ]
     },
     "execution_count": 33,
     "metadata": {},
     "output_type": "execute_result"
    }
   ],
   "source": [
    "pings.shape"
   ]
  },
  {
   "cell_type": "code",
   "execution_count": 34,
   "metadata": {},
   "outputs": [
    {
     "data": {
      "text/html": [
       "<div>\n",
       "<style scoped>\n",
       "    .dataframe tbody tr th:only-of-type {\n",
       "        vertical-align: middle;\n",
       "    }\n",
       "\n",
       "    .dataframe tbody tr th {\n",
       "        vertical-align: top;\n",
       "    }\n",
       "\n",
       "    .dataframe thead th {\n",
       "        text-align: right;\n",
       "    }\n",
       "</style>\n",
       "<table border=\"1\" class=\"dataframe\">\n",
       "  <thead>\n",
       "    <tr style=\"text-align: right;\">\n",
       "      <th></th>\n",
       "      <th>id</th>\n",
       "      <th>name</th>\n",
       "      <th>gender</th>\n",
       "      <th>species</th>\n",
       "      <th>weight</th>\n",
       "      <th>length</th>\n",
       "      <th>tagDate</th>\n",
       "      <th>dist_total</th>\n",
       "    </tr>\n",
       "  </thead>\n",
       "  <tbody>\n",
       "    <tr>\n",
       "      <th>0</th>\n",
       "      <td>3</td>\n",
       "      <td>Oprah</td>\n",
       "      <td>Female</td>\n",
       "      <td>White Shark (Carcharodon carcharias)</td>\n",
       "      <td>686 lb</td>\n",
       "      <td>9 ft 10 in.</td>\n",
       "      <td>7 March 2012</td>\n",
       "      <td>2816.662</td>\n",
       "    </tr>\n",
       "    <tr>\n",
       "      <th>1</th>\n",
       "      <td>4</td>\n",
       "      <td>Albertina</td>\n",
       "      <td>Female</td>\n",
       "      <td>White Shark (Carcharodon carcharias)</td>\n",
       "      <td>1110 lb</td>\n",
       "      <td>11 ft 6 in.</td>\n",
       "      <td>8 March 2012</td>\n",
       "      <td>1830.593</td>\n",
       "    </tr>\n",
       "    <tr>\n",
       "      <th>2</th>\n",
       "      <td>5</td>\n",
       "      <td>Helen</td>\n",
       "      <td>Female</td>\n",
       "      <td>White Shark (Carcharodon carcharias)</td>\n",
       "      <td>765 lb</td>\n",
       "      <td>10 ft 2 in.</td>\n",
       "      <td>8 March 2012</td>\n",
       "      <td>4436.661</td>\n",
       "    </tr>\n",
       "    <tr>\n",
       "      <th>3</th>\n",
       "      <td>6</td>\n",
       "      <td>Brenda</td>\n",
       "      <td>Female</td>\n",
       "      <td>White Shark (Carcharodon carcharias)</td>\n",
       "      <td>1310 lb</td>\n",
       "      <td>12 ft 2 in.</td>\n",
       "      <td>8 March 2012</td>\n",
       "      <td>2966.902</td>\n",
       "    </tr>\n",
       "    <tr>\n",
       "      <th>4</th>\n",
       "      <td>7</td>\n",
       "      <td>Madiba</td>\n",
       "      <td>Male</td>\n",
       "      <td>White Shark (Carcharodon carcharias)</td>\n",
       "      <td>659 lb</td>\n",
       "      <td>9 ft 8 in.</td>\n",
       "      <td>8 March 2012</td>\n",
       "      <td>3537.423</td>\n",
       "    </tr>\n",
       "  </tbody>\n",
       "</table>\n",
       "</div>"
      ],
      "text/plain": [
       "   id        name  gender                               species   weight  \\\n",
       "0   3       Oprah  Female  White Shark (Carcharodon carcharias)   686 lb   \n",
       "1   4  Albertina   Female  White Shark (Carcharodon carcharias)  1110 lb   \n",
       "2   5      Helen   Female  White Shark (Carcharodon carcharias)   765 lb   \n",
       "3   6     Brenda   Female  White Shark (Carcharodon carcharias)  1310 lb   \n",
       "4   7      Madiba    Male  White Shark (Carcharodon carcharias)   659 lb   \n",
       "\n",
       "          length       tagDate dist_total  \n",
       "0    9 ft 10 in.  7 March 2012   2816.662  \n",
       "1   11 ft 6 in.   8 March 2012   1830.593  \n",
       "2    10 ft 2 in.  8 March 2012   4436.661  \n",
       "3  12 ft 2 in.    8 March 2012   2966.902  \n",
       "4    9 ft 8 in.   8 March 2012   3537.423  "
      ]
     },
     "execution_count": 34,
     "metadata": {},
     "output_type": "execute_result"
    }
   ],
   "source": [
    "columns = ['id','name','gender', 'species', 'weight', 'length', 'tagDate', 'dist_total']\n",
    "df[columns].head()"
   ]
  },
  {
   "cell_type": "code",
   "execution_count": 35,
   "metadata": {},
   "outputs": [
    {
     "data": {
      "text/plain": [
       "(76082, 12)"
      ]
     },
     "execution_count": 35,
     "metadata": {},
     "output_type": "execute_result"
    }
   ],
   "source": [
    "joined = pings.merge (df [columns], on='id')\n",
    "joined.shape"
   ]
  },
  {
   "cell_type": "code",
   "execution_count": 36,
   "metadata": {},
   "outputs": [
    {
     "data": {
      "text/html": [
       "<div>\n",
       "<style scoped>\n",
       "    .dataframe tbody tr th:only-of-type {\n",
       "        vertical-align: middle;\n",
       "    }\n",
       "\n",
       "    .dataframe tbody tr th {\n",
       "        vertical-align: top;\n",
       "    }\n",
       "\n",
       "    .dataframe thead th {\n",
       "        text-align: right;\n",
       "    }\n",
       "</style>\n",
       "<table border=\"1\" class=\"dataframe\">\n",
       "  <thead>\n",
       "    <tr style=\"text-align: right;\">\n",
       "      <th></th>\n",
       "      <th>active</th>\n",
       "      <th>datetime</th>\n",
       "      <th>id</th>\n",
       "      <th>latitude</th>\n",
       "      <th>longitude</th>\n",
       "      <th>name</th>\n",
       "      <th>gender</th>\n",
       "      <th>species</th>\n",
       "      <th>weight</th>\n",
       "      <th>length</th>\n",
       "      <th>tagDate</th>\n",
       "      <th>dist_total</th>\n",
       "    </tr>\n",
       "  </thead>\n",
       "  <tbody>\n",
       "    <tr>\n",
       "      <th>0</th>\n",
       "      <td>1</td>\n",
       "      <td>2014-07-06 04:57:28</td>\n",
       "      <td>3</td>\n",
       "      <td>-34.60661</td>\n",
       "      <td>21.15244</td>\n",
       "      <td>Oprah</td>\n",
       "      <td>Female</td>\n",
       "      <td>White Shark (Carcharodon carcharias)</td>\n",
       "      <td>686 lb</td>\n",
       "      <td>9 ft 10 in.</td>\n",
       "      <td>7 March 2012</td>\n",
       "      <td>2816.662</td>\n",
       "    </tr>\n",
       "    <tr>\n",
       "      <th>1</th>\n",
       "      <td>1</td>\n",
       "      <td>2014-06-23 02:40:09</td>\n",
       "      <td>3</td>\n",
       "      <td>-34.78752</td>\n",
       "      <td>19.42479</td>\n",
       "      <td>Oprah</td>\n",
       "      <td>Female</td>\n",
       "      <td>White Shark (Carcharodon carcharias)</td>\n",
       "      <td>686 lb</td>\n",
       "      <td>9 ft 10 in.</td>\n",
       "      <td>7 March 2012</td>\n",
       "      <td>2816.662</td>\n",
       "    </tr>\n",
       "    <tr>\n",
       "      <th>2</th>\n",
       "      <td>1</td>\n",
       "      <td>2014-06-15 13:15:44</td>\n",
       "      <td>3</td>\n",
       "      <td>-34.42487</td>\n",
       "      <td>21.09754</td>\n",
       "      <td>Oprah</td>\n",
       "      <td>Female</td>\n",
       "      <td>White Shark (Carcharodon carcharias)</td>\n",
       "      <td>686 lb</td>\n",
       "      <td>9 ft 10 in.</td>\n",
       "      <td>7 March 2012</td>\n",
       "      <td>2816.662</td>\n",
       "    </tr>\n",
       "    <tr>\n",
       "      <th>3</th>\n",
       "      <td>1</td>\n",
       "      <td>2014-06-03 02:23:57</td>\n",
       "      <td>3</td>\n",
       "      <td>-34.70432271674724</td>\n",
       "      <td>20.21013441406251</td>\n",
       "      <td>Oprah</td>\n",
       "      <td>Female</td>\n",
       "      <td>White Shark (Carcharodon carcharias)</td>\n",
       "      <td>686 lb</td>\n",
       "      <td>9 ft 10 in.</td>\n",
       "      <td>7 March 2012</td>\n",
       "      <td>2816.662</td>\n",
       "    </tr>\n",
       "    <tr>\n",
       "      <th>4</th>\n",
       "      <td>1</td>\n",
       "      <td>2014-05-28 19:53:57</td>\n",
       "      <td>3</td>\n",
       "      <td>-34.65556</td>\n",
       "      <td>19.37459</td>\n",
       "      <td>Oprah</td>\n",
       "      <td>Female</td>\n",
       "      <td>White Shark (Carcharodon carcharias)</td>\n",
       "      <td>686 lb</td>\n",
       "      <td>9 ft 10 in.</td>\n",
       "      <td>7 March 2012</td>\n",
       "      <td>2816.662</td>\n",
       "    </tr>\n",
       "  </tbody>\n",
       "</table>\n",
       "</div>"
      ],
      "text/plain": [
       "  active            datetime  id            latitude          longitude  \\\n",
       "0      1 2014-07-06 04:57:28   3           -34.60661           21.15244   \n",
       "1      1 2014-06-23 02:40:09   3           -34.78752           19.42479   \n",
       "2      1 2014-06-15 13:15:44   3           -34.42487           21.09754   \n",
       "3      1 2014-06-03 02:23:57   3  -34.70432271674724  20.21013441406251   \n",
       "4      1 2014-05-28 19:53:57   3           -34.65556           19.37459   \n",
       "\n",
       "    name  gender                               species  weight       length  \\\n",
       "0  Oprah  Female  White Shark (Carcharodon carcharias)  686 lb  9 ft 10 in.   \n",
       "1  Oprah  Female  White Shark (Carcharodon carcharias)  686 lb  9 ft 10 in.   \n",
       "2  Oprah  Female  White Shark (Carcharodon carcharias)  686 lb  9 ft 10 in.   \n",
       "3  Oprah  Female  White Shark (Carcharodon carcharias)  686 lb  9 ft 10 in.   \n",
       "4  Oprah  Female  White Shark (Carcharodon carcharias)  686 lb  9 ft 10 in.   \n",
       "\n",
       "        tagDate dist_total  \n",
       "0  7 March 2012   2816.662  \n",
       "1  7 March 2012   2816.662  \n",
       "2  7 March 2012   2816.662  \n",
       "3  7 March 2012   2816.662  \n",
       "4  7 March 2012   2816.662  "
      ]
     },
     "execution_count": 36,
     "metadata": {},
     "output_type": "execute_result"
    }
   ],
   "source": [
    "joined.head()"
   ]
  },
  {
   "cell_type": "code",
   "execution_count": null,
   "metadata": {},
   "outputs": [],
   "source": []
  }
 ],
 "metadata": {
  "kernelspec": {
   "display_name": "Python 3",
   "language": "python",
   "name": "python3"
  },
  "language_info": {
   "codemirror_mode": {
    "name": "ipython",
    "version": 3
   },
   "file_extension": ".py",
   "mimetype": "text/x-python",
   "name": "python",
   "nbconvert_exporter": "python",
   "pygments_lexer": "ipython3",
   "version": "3.6.7"
  }
 },
 "nbformat": 4,
 "nbformat_minor": 2
}
